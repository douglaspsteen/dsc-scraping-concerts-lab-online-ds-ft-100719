{
 "cells": [
  {
   "cell_type": "markdown",
   "metadata": {},
   "source": [
    "# Scraping Concerts - Lab\n",
    "\n",
    "## Introduction\n",
    "\n",
    "Now that you've seen how to scrape a simple website, it's time to again practice those skills on a full-fledged site!\n",
    "In this lab, you'll practice your scraping skills on a music website: https://www.residentadvisor.net.\n",
    "## Objectives\n",
    "\n",
    "You will be able to:\n",
    "* Create a full scraping pipeline that involves traversing over many pages of a website, dealing with errors and storing data"
   ]
  },
  {
   "cell_type": "markdown",
   "metadata": {},
   "source": [
    "## View the Website\n",
    "\n",
    "For this lab, you'll be scraping the https://www.residentadvisor.net website. Start by navigating to the events page [here](https://www.residentadvisor.net/events) in your browser.\n",
    "\n",
    "<img src=\"images/ra.png\">"
   ]
  },
  {
   "cell_type": "code",
   "execution_count": 5,
   "metadata": {},
   "outputs": [],
   "source": [
    "# Load the https://www.residentadvisor.net/events page in your browser."
   ]
  },
  {
   "cell_type": "markdown",
   "metadata": {},
   "source": [
    "## Open the Inspect Element Feature\n",
    "\n",
    "Next, open the inspect element feature from your web browser in order to preview the underlying HTML associated with the page."
   ]
  },
  {
   "cell_type": "code",
   "execution_count": 6,
   "metadata": {},
   "outputs": [],
   "source": [
    "# Open the inspect element feature in your browser"
   ]
  },
  {
   "cell_type": "markdown",
   "metadata": {},
   "source": [
    "## Write a Function to Scrape all of the Events on the Given Page Events Page\n",
    "\n",
    "The function should return a Pandas DataFrame with columns for the Event_Name, Venue, Event_Date and Number_of_Attendees."
   ]
  },
  {
   "cell_type": "code",
   "execution_count": 7,
   "metadata": {},
   "outputs": [],
   "source": [
    "from bs4 import BeautifulSoup\n",
    "import requests\n",
    "    \n",
    "html_page = requests.get('https://www.residentadvisor.net/events') # Make a get request to retrieve the page\n",
    "soup = BeautifulSoup(html_page.content, 'html.parser') # Pass the page contents to beautiful soup for parsing"
   ]
  },
  {
   "cell_type": "markdown",
   "metadata": {},
   "source": [
    "### Exploration for final function"
   ]
  },
  {
   "cell_type": "code",
   "execution_count": 8,
   "metadata": {},
   "outputs": [
    {
     "data": {
      "text/plain": [
       "'Dark Desires with Lee K (Circulate Records)'"
      ]
     },
     "execution_count": 8,
     "metadata": {},
     "output_type": "execute_result"
    }
   ],
   "source": [
    "# Find first event name\n",
    "name_h1 = soup.find('h1', class_='event-title')\n",
    "name = name_h1.find('a')\n",
    "name.text"
   ]
  },
  {
   "cell_type": "code",
   "execution_count": 9,
   "metadata": {},
   "outputs": [
    {
     "data": {
      "text/plain": [
       "'at The North Door, Austin'"
      ]
     },
     "execution_count": 9,
     "metadata": {},
     "output_type": "execute_result"
    }
   ],
   "source": [
    "# Find first event venue\n",
    "ven_h1 = soup.find('h1', class_='event-title')\n",
    "venue = ven_h1.find('span')\n",
    "venue.text"
   ]
  },
  {
   "cell_type": "code",
   "execution_count": 10,
   "metadata": {},
   "outputs": [
    {
     "data": {
      "text/plain": [
       "'2019-11-08T00:00'"
      ]
     },
     "execution_count": 10,
     "metadata": {},
     "output_type": "execute_result"
    }
   ],
   "source": [
    "# Find first event date\n",
    "date = soup.find('time')\n",
    "date.text"
   ]
  },
  {
   "cell_type": "code",
   "execution_count": 11,
   "metadata": {},
   "outputs": [
    {
     "data": {
      "text/plain": [
       "'6 Attending'"
      ]
     },
     "execution_count": 11,
     "metadata": {},
     "output_type": "execute_result"
    }
   ],
   "source": [
    "# Find first event attendees\n",
    "att = soup.find('p', class_='attending')\n",
    "att.text"
   ]
  },
  {
   "cell_type": "code",
   "execution_count": 12,
   "metadata": {},
   "outputs": [],
   "source": [
    "def scrape_events(events_page_url='https://www.residentadvisor.net/events'):\n",
    "\n",
    "    from bs4 import BeautifulSoup\n",
    "    import requests\n",
    "    import pandas as pd\n",
    "\n",
    "    # Make a get request to retrieve the page\n",
    "    html_page = requests.get(events_page_url)\n",
    "    # Pass the page contents to beautiful soup for parsing\n",
    "    soup = BeautifulSoup(html_page.content, 'html.parser')\n",
    "    # Get all events from soup to iterate over\n",
    "    event_list = soup.find('div', id='event-listing')\n",
    "    events = event_list.findAll(\n",
    "        'article', itemtype=\"http://data-vocabulary.org/Event\")\n",
    "\n",
    "    # Create containers for desired variables\n",
    "    names_list = []\n",
    "    venues_list = []\n",
    "    dates_list = []\n",
    "    attendees_list = []\n",
    "\n",
    "    # Iterate through list of events at correct tags to get name, venue, date, attendees for each\n",
    "    for event in events:\n",
    "\n",
    "        name_h1 = event.find('h1', class_='event-title')\n",
    "        name = name_h1.find('a')\n",
    "        names_list.append(name.text)\n",
    "\n",
    "        ven_h1 = event.find('h1', class_='event-title')\n",
    "        venue = ven_h1.find('span')\n",
    "        venues_list.append(venue.text[3:])\n",
    "\n",
    "        date = event.find('time')\n",
    "        dates_list.append(date.text[:10])\n",
    "\n",
    "        # Conditional statement to handle if event has no attendees\n",
    "        if event.find('p', class_='attending'):\n",
    "            att = event.find('p', class_='attending')\n",
    "            attendees_list.append(att.text[:1])\n",
    "        else:\n",
    "            attendees_list.append(0)\n",
    "\n",
    "    df = pd.DataFrame([names_list, venues_list, dates_list,\n",
    "                       attendees_list]).transpose()\n",
    "    df.columns = [\"Event_Name\", \"Venue\", \"Event_Date\", \"Number_of_Attendees\"]\n",
    "    return df"
   ]
  },
  {
   "cell_type": "code",
   "execution_count": 13,
   "metadata": {
    "scrolled": true
   },
   "outputs": [
    {
     "data": {
      "text/html": [
       "<div>\n",
       "<style scoped>\n",
       "    .dataframe tbody tr th:only-of-type {\n",
       "        vertical-align: middle;\n",
       "    }\n",
       "\n",
       "    .dataframe tbody tr th {\n",
       "        vertical-align: top;\n",
       "    }\n",
       "\n",
       "    .dataframe thead th {\n",
       "        text-align: right;\n",
       "    }\n",
       "</style>\n",
       "<table border=\"1\" class=\"dataframe\">\n",
       "  <thead>\n",
       "    <tr style=\"text-align: right;\">\n",
       "      <th></th>\n",
       "      <th>Event_Name</th>\n",
       "      <th>Venue</th>\n",
       "      <th>Event_Date</th>\n",
       "      <th>Number_of_Attendees</th>\n",
       "    </tr>\n",
       "  </thead>\n",
       "  <tbody>\n",
       "    <tr>\n",
       "      <td>0</td>\n",
       "      <td>Trïbel: ✺ Alice Iguchi, Medina, Cïaga ✺ Nov 7</td>\n",
       "      <td>Downtime</td>\n",
       "      <td>2019-11-07</td>\n",
       "      <td>5</td>\n",
       "    </tr>\n",
       "    <tr>\n",
       "      <td>1</td>\n",
       "      <td>Deep Root Sessions At Public Arts with OFFAIAH</td>\n",
       "      <td>Public Arts</td>\n",
       "      <td>2019-11-07</td>\n",
       "      <td>7</td>\n",
       "    </tr>\n",
       "    <tr>\n",
       "      <td>2</td>\n",
       "      <td>The Funky Seshwa with Cedar Sound Workshop, Wi...</td>\n",
       "      <td>Good Room</td>\n",
       "      <td>2019-11-07</td>\n",
       "      <td>2</td>\n",
       "    </tr>\n",
       "    <tr>\n",
       "      <td>3</td>\n",
       "      <td>Banana e Paisano with Alexi Delano</td>\n",
       "      <td>TBA Brooklyn</td>\n",
       "      <td>2019-11-07</td>\n",
       "      <td>1</td>\n",
       "    </tr>\n",
       "    <tr>\n",
       "      <td>4</td>\n",
       "      <td>Darker Than Wax with Paurro</td>\n",
       "      <td>Le Bain</td>\n",
       "      <td>2019-11-07</td>\n",
       "      <td>7</td>\n",
       "    </tr>\n",
       "    <tr>\n",
       "      <td>...</td>\n",
       "      <td>...</td>\n",
       "      <td>...</td>\n",
       "      <td>...</td>\n",
       "      <td>...</td>\n",
       "    </tr>\n",
       "    <tr>\n",
       "      <td>112</td>\n",
       "      <td>11-12- Salsa, Classics, Disco, Dance!-1 Year A...</td>\n",
       "      <td>Taj Lounge</td>\n",
       "      <td>2019-11-12</td>\n",
       "      <td>0</td>\n",
       "    </tr>\n",
       "    <tr>\n",
       "      <td>113</td>\n",
       "      <td>Quo Vadis presents: Alessandro Cortini, 51717 ...</td>\n",
       "      <td>Good Room</td>\n",
       "      <td>2019-11-13</td>\n",
       "      <td>1</td>\n",
       "    </tr>\n",
       "    <tr>\n",
       "      <td>114</td>\n",
       "      <td>House of Vogue with MikeQ &amp; Qween Beat</td>\n",
       "      <td>House Of Yes</td>\n",
       "      <td>2019-11-13</td>\n",
       "      <td>2</td>\n",
       "    </tr>\n",
       "    <tr>\n",
       "      <td>115</td>\n",
       "      <td>Exile: Ron Jackson / A.M.D</td>\n",
       "      <td>Bossa Nova Civic Club</td>\n",
       "      <td>2019-11-13</td>\n",
       "      <td>1</td>\n",
       "    </tr>\n",
       "    <tr>\n",
       "      <td>116</td>\n",
       "      <td>Ūndisclosed - Oscar Mula / Andres Romero &amp; More</td>\n",
       "      <td>TBA Brooklyn</td>\n",
       "      <td>2019-11-13</td>\n",
       "      <td>1</td>\n",
       "    </tr>\n",
       "  </tbody>\n",
       "</table>\n",
       "<p>117 rows × 4 columns</p>\n",
       "</div>"
      ],
      "text/plain": [
       "                                            Event_Name                  Venue  \\\n",
       "0        Trïbel: ✺ Alice Iguchi, Medina, Cïaga ✺ Nov 7               Downtime   \n",
       "1       Deep Root Sessions At Public Arts with OFFAIAH            Public Arts   \n",
       "2    The Funky Seshwa with Cedar Sound Workshop, Wi...              Good Room   \n",
       "3                   Banana e Paisano with Alexi Delano           TBA Brooklyn   \n",
       "4                          Darker Than Wax with Paurro                Le Bain   \n",
       "..                                                 ...                    ...   \n",
       "112  11-12- Salsa, Classics, Disco, Dance!-1 Year A...             Taj Lounge   \n",
       "113  Quo Vadis presents: Alessandro Cortini, 51717 ...              Good Room   \n",
       "114             House of Vogue with MikeQ & Qween Beat           House Of Yes   \n",
       "115                         Exile: Ron Jackson / A.M.D  Bossa Nova Civic Club   \n",
       "116    Ūndisclosed - Oscar Mula / Andres Romero & More           TBA Brooklyn   \n",
       "\n",
       "     Event_Date Number_of_Attendees  \n",
       "0    2019-11-07                   5  \n",
       "1    2019-11-07                   7  \n",
       "2    2019-11-07                   2  \n",
       "3    2019-11-07                   1  \n",
       "4    2019-11-07                   7  \n",
       "..          ...                 ...  \n",
       "112  2019-11-12                   0  \n",
       "113  2019-11-13                   1  \n",
       "114  2019-11-13                   2  \n",
       "115  2019-11-13                   1  \n",
       "116  2019-11-13                   1  \n",
       "\n",
       "[117 rows x 4 columns]"
      ]
     },
     "execution_count": 13,
     "metadata": {},
     "output_type": "execute_result"
    }
   ],
   "source": [
    "scrape_events(events_page_url='https://www.residentadvisor.net/events/us/newyork')"
   ]
  },
  {
   "cell_type": "markdown",
   "metadata": {},
   "source": [
    "## Write a Function to Retrieve the URL for the Next Page"
   ]
  },
  {
   "cell_type": "code",
   "execution_count": 14,
   "metadata": {},
   "outputs": [
    {
     "data": {
      "text/plain": [
       "'/events/us/texas/week/2019-11-14'"
      ]
     },
     "execution_count": 14,
     "metadata": {},
     "output_type": "execute_result"
    }
   ],
   "source": [
    "# Exploration before function writing\n",
    "next_url_ext = soup.find('a', attrs = {'ga-event-action': \"Next \"})['href']\n",
    "next_url_ext"
   ]
  },
  {
   "cell_type": "code",
   "execution_count": 15,
   "metadata": {},
   "outputs": [],
   "source": [
    "def next_page(url):\n",
    "\n",
    "    from bs4 import BeautifulSoup\n",
    "    import requests\n",
    "\n",
    "    # Make a get request to retrieve the page\n",
    "    html_page = requests.get(url)\n",
    "    # Pass the page contents to beautiful soup for parsing\n",
    "    soup = BeautifulSoup(html_page.content, 'html.parser')\n",
    "    # Find the next url extension using the next button tag\n",
    "    next_url_ext = soup.find(\n",
    "        'a', attrs={'ga-event-action': \"Next \"}).attrs['href']\n",
    "\n",
    "    # Combine base url with next page url extension to get next_page_url\n",
    "    next_page_url = 'https://www.residentadvisor.net/' + next_url_ext\n",
    "\n",
    "    return next_page_url"
   ]
  },
  {
   "cell_type": "markdown",
   "metadata": {},
   "source": [
    "## Scrape the Next 1000 Events for Your Area\n",
    "\n",
    "Display the data sorted by the number of attendees. If there is a tie for the number attending, sort by event date."
   ]
  },
  {
   "cell_type": "code",
   "execution_count": 17,
   "metadata": {},
   "outputs": [
    {
     "name": "stdout",
     "output_type": "stream",
     "text": [
      "Total row count is 117\n",
      "Total row count is 234\n",
      "Total row count is 351\n",
      "Total row count is 468\n",
      "Total row count is 585\n",
      "Total row count is 702\n",
      "Total row count is 819\n",
      "Total row count is 936\n",
      "Total row count is 1053\n"
     ]
    },
    {
     "data": {
      "text/html": [
       "<div>\n",
       "<style scoped>\n",
       "    .dataframe tbody tr th:only-of-type {\n",
       "        vertical-align: middle;\n",
       "    }\n",
       "\n",
       "    .dataframe tbody tr th {\n",
       "        vertical-align: top;\n",
       "    }\n",
       "\n",
       "    .dataframe thead th {\n",
       "        text-align: right;\n",
       "    }\n",
       "</style>\n",
       "<table border=\"1\" class=\"dataframe\">\n",
       "  <thead>\n",
       "    <tr style=\"text-align: right;\">\n",
       "      <th></th>\n",
       "      <th>Event_Name</th>\n",
       "      <th>Venue</th>\n",
       "      <th>Event_Date</th>\n",
       "      <th>Number_of_Attendees</th>\n",
       "    </tr>\n",
       "  </thead>\n",
       "  <tbody>\n",
       "    <tr>\n",
       "      <td>0</td>\n",
       "      <td>Trïbel: ✺ Alice Iguchi, Medina, Cïaga ✺ Nov 7</td>\n",
       "      <td>Downtime</td>\n",
       "      <td>2019-11-07</td>\n",
       "      <td>5</td>\n",
       "    </tr>\n",
       "    <tr>\n",
       "      <td>1</td>\n",
       "      <td>Deep Root Sessions At Public Arts with OFFAIAH</td>\n",
       "      <td>Public Arts</td>\n",
       "      <td>2019-11-07</td>\n",
       "      <td>7</td>\n",
       "    </tr>\n",
       "    <tr>\n",
       "      <td>2</td>\n",
       "      <td>The Funky Seshwa with Cedar Sound Workshop, Wi...</td>\n",
       "      <td>Good Room</td>\n",
       "      <td>2019-11-07</td>\n",
       "      <td>2</td>\n",
       "    </tr>\n",
       "    <tr>\n",
       "      <td>3</td>\n",
       "      <td>Banana e Paisano with Alexi Delano</td>\n",
       "      <td>TBA Brooklyn</td>\n",
       "      <td>2019-11-07</td>\n",
       "      <td>1</td>\n",
       "    </tr>\n",
       "    <tr>\n",
       "      <td>4</td>\n",
       "      <td>Darker Than Wax with Paurro</td>\n",
       "      <td>Le Bain</td>\n",
       "      <td>2019-11-07</td>\n",
       "      <td>7</td>\n",
       "    </tr>\n",
       "  </tbody>\n",
       "</table>\n",
       "</div>"
      ],
      "text/plain": [
       "                                          Event_Name         Venue  \\\n",
       "0      Trïbel: ✺ Alice Iguchi, Medina, Cïaga ✺ Nov 7      Downtime   \n",
       "1     Deep Root Sessions At Public Arts with OFFAIAH   Public Arts   \n",
       "2  The Funky Seshwa with Cedar Sound Workshop, Wi...     Good Room   \n",
       "3                 Banana e Paisano with Alexi Delano  TBA Brooklyn   \n",
       "4                        Darker Than Wax with Paurro       Le Bain   \n",
       "\n",
       "   Event_Date Number_of_Attendees  \n",
       "0  2019-11-07                   5  \n",
       "1  2019-11-07                   7  \n",
       "2  2019-11-07                   2  \n",
       "3  2019-11-07                   1  \n",
       "4  2019-11-07                   7  "
      ]
     },
     "metadata": {},
     "output_type": "display_data"
    },
    {
     "name": "stdout",
     "output_type": "stream",
     "text": [
      "1053\n"
     ]
    }
   ],
   "source": [
    "import pandas as pd\n",
    "\n",
    "all_dfs = []\n",
    "row_count = 0\n",
    "url = 'https://www.residentadvisor.net/events/us/newyork'\n",
    "while row_count <= 1000:\n",
    "    df = scrape_events(url)\n",
    "    row_count += len(df)\n",
    "    print(f'Total row count is {row_count}')\n",
    "    if next_page(url) is True:\n",
    "        url = next_page(url)\n",
    "    all_dfs.append(df)\n",
    "\n",
    "final_df = pd.concat(all_dfs)\n",
    "display(final_df.head())\n",
    "print(len(final_df))"
   ]
  },
  {
   "cell_type": "markdown",
   "metadata": {},
   "source": [
    "## Summary \n",
    "\n",
    "Congratulations! In this lab, you successfully developed a pipeline to scrape a website for concert event information!"
   ]
  }
 ],
 "metadata": {
  "kernelspec": {
   "display_name": "learn-env",
   "language": "python",
   "name": "learn-env"
  },
  "language_info": {
   "codemirror_mode": {
    "name": "ipython",
    "version": 3
   },
   "file_extension": ".py",
   "mimetype": "text/x-python",
   "name": "python",
   "nbconvert_exporter": "python",
   "pygments_lexer": "ipython3",
   "version": "3.6.9"
  },
  "toc": {
   "base_numbering": 1,
   "nav_menu": {},
   "number_sections": true,
   "sideBar": true,
   "skip_h1_title": false,
   "title_cell": "Table of Contents",
   "title_sidebar": "Contents",
   "toc_cell": false,
   "toc_position": {},
   "toc_section_display": true,
   "toc_window_display": false
  },
  "varInspector": {
   "cols": {
    "lenName": 16,
    "lenType": 16,
    "lenVar": 40
   },
   "kernels_config": {
    "python": {
     "delete_cmd_postfix": "",
     "delete_cmd_prefix": "del ",
     "library": "var_list.py",
     "varRefreshCmd": "print(var_dic_list())"
    },
    "r": {
     "delete_cmd_postfix": ") ",
     "delete_cmd_prefix": "rm(",
     "library": "var_list.r",
     "varRefreshCmd": "cat(var_dic_list()) "
    }
   },
   "types_to_exclude": [
    "module",
    "function",
    "builtin_function_or_method",
    "instance",
    "_Feature"
   ],
   "window_display": false
  }
 },
 "nbformat": 4,
 "nbformat_minor": 2
}
